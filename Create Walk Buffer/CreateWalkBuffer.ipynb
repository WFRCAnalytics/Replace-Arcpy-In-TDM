{
 "cells": [
  {
   "cell_type": "code",
   "execution_count": 1,
   "metadata": {},
   "outputs": [],
   "source": [
    "import os\n",
    "import numpy as np\n",
    "import pandas as pd\n",
    "import geopandas as gpd\n",
    "\n",
    "# show all columns\n",
    "pd.options.display.max_columns = None"
   ]
  },
  {
   "cell_type": "code",
   "execution_count": null,
   "metadata": {},
   "outputs": [],
   "source": [
    "# fill NA values in Spatially enabled dataframes (ignores SHAPE column)\n",
    "def fill_na_sedf(df_with_shape_column, fill_value=0):\n",
    "    if 'SHAPE' in list(df_with_shape_column.columns):\n",
    "        df = df_with_shape_column.copy()\n",
    "        shape_column = df['SHAPE'].copy()\n",
    "        del df['SHAPE']\n",
    "        return df.fillna(fill_value).merge(shape_column,left_index=True, right_index=True, how='inner')\n",
    "    else:\n",
    "        raise Exception(\"Dataframe does not include 'SHAPE' column\")"
   ]
  },
  {
   "cell_type": "code",
   "execution_count": 9,
   "metadata": {},
   "outputs": [],
   "source": [
    "outputs = '.\\\\Outputs'\n",
    "\n",
    "if not os.path.exists(outputs):\n",
    "    os.makedirs(outputs)\n",
    "    \n",
    "spatialRef    = 26912 #NAD_1983_UTM_Zone_12N"
   ]
  },
  {
   "cell_type": "markdown",
   "metadata": {},
   "source": [
    "# create bus lines"
   ]
  },
  {
   "cell_type": "code",
   "execution_count": 88,
   "metadata": {},
   "outputs": [],
   "source": [
    "transit_links = r\".\\Inputs\\TransitLinks.dbf\"\n",
    "tl_df = gpd.read_file(transit_links)\n",
    "tl_df = tl_df[tl_df['MODE'] == 4].copy()\n",
    "\n",
    "tl_df['LINKID'] = tl_df['A'].astype(str) + '_' + tl_df['B'].astype(str)\n",
    "del tl_df['A']\n",
    "del tl_df['B']\n",
    "del tl_df['geometry']\n",
    "\n",
    "linkview = gpd.read_file(r\".\\Inputs\\v832_SE50_Net50_Link.shp\")\n",
    "linkview_columns = list(linkview.columns)\n",
    "linkview = linkview.merge(tl_df, on='LINKID', how='inner')\n",
    "linkview = linkview[linkview['FT']< 12].copy()\n",
    "linkview = linkview[linkview_columns].copy()\n",
    "linkview = linkview.set_crs(spatialRef)"
   ]
  },
  {
   "cell_type": "markdown",
   "metadata": {},
   "source": [
    "# create bus stops\n"
   ]
  },
  {
   "cell_type": "code",
   "execution_count": null,
   "metadata": {},
   "outputs": [],
   "source": [
    "transit_links = r\".\\Inputs\\TransitLinks.dbf\"\n",
    "tl_df = gpd.read_file(transit_links)\n",
    "tl_df = tl_df[(tl_df['MODE'] > 4) & tl_df['MODE'] <= 9].copy()\n",
    "\n",
    "stop_a_max = tl_df.groupby('A', as_index=False)['STOPA'].max()\n",
    "stop_b_max = tl_df.groupby('B', as_index=False)['STOPB'].max()\n",
    "\n",
    "stop_a_max.rename({'STOPA':'MAX_STOPA'}, axis=1, inplace=True)\n",
    "stop_b_max.rename({'STOPB':'MAX_STOPB'}, axis=1, inplace=True)\n",
    "\n",
    "nodes = r\".\\Inputs\\v832_SE50_Net50_Node.shp\"\n",
    "nodes_df = gpd.read_file(nodes)\n",
    "fieldnames = nodes_df.columns\n",
    "\n",
    "if \"TranStop\" in fieldnames:\n",
    "    print(\"TranStop field already exists in Node shapefile. Overwriting data...\\n\")\n",
    "else:\n",
    "    nodes_df['TranStop'] = np.nan\n",
    "\n",
    "nodes_df = nodes_df.merge(stop_a_max, left_on='N', right_on='A', how='inner')\n",
    "nodes_df = nodes_df.merge(stop_b_max, left_on='N', right_on='B', how='inner')\n",
    "\n",
    "nodes_df.loc[nodes_df['MAX_STOPA'] > 0 ,'TranStop'] = 1\n",
    "nodes_df.loc[nodes_df['MAX_STOPA'] <= 0 ,'TranStop'] = 0\n",
    "nodes_df.loc[nodes_df['MAX_STOPB'] > 0 ,'TranStop'] = 1\n",
    "nodes_df.loc[nodes_df['MAX_STOPB'] <= 0 ,'TranStop'] = 0\n",
    "\n",
    "\n",
    "\n",
    "\n",
    "nodes_df = nodes_df[nodes_df['TranStop'] == 1].copy()\n",
    "nodes_df = nodes_df.set_crs(spatialRef)"
   ]
  },
  {
   "cell_type": "markdown",
   "metadata": {},
   "source": [
    "# zeroFields"
   ]
  },
  {
   "cell_type": "code",
   "execution_count": null,
   "metadata": {},
   "outputs": [],
   "source": [
    "fieldlist = [\"TAZAREA\", \"LOCALAREA\", \"STOPSAREA\", \"LOCALPCT\", \"STOPSPCT\", \"WALKPCT\"]\n",
    "taz = r\"E:\\Projects\\Replace-Arcpy-In-TDM\\Create Walk Buffer\\Inputs\\TAZ.dbf\"\n",
    "# taz = r\"E:\\Projects\\Replace-Arcpy-In-TDM\\Create Walk Buffer\\Inputs\\TAZ.shp\"\n",
    "taz_df = gpd.read_file(taz)\n",
    "taz_fields = list(taz_df.columns)\n",
    "for field in fieldlist:\n",
    "        if field not in taz_fields:\n",
    "                taz_df[field] = 0\n",
    "\n",
    "taz_df['TAZAREA'] = taz_df['geometry'].area # works as long as taz is in utm\n",
    "# taz_df.head()"
   ]
  },
  {
   "cell_type": "markdown",
   "metadata": {},
   "source": [
    "# updateLinesArea\n"
   ]
  },
  {
   "cell_type": "code",
   "execution_count": 89,
   "metadata": {},
   "outputs": [],
   "source": [
    "lbl_buffer = linkview.drop(['TAZID'], axis=1)\n",
    "meters_to_buffer =  .4 * 1609.344 # 4-mile buffer\n",
    "# lbl_buffer = local_bus_lines.buffer(meters_to_buffer, join_style=2)\n",
    "lbl_buffer['geometry'] = lbl_buffer['geometry'].buffer(meters_to_buffer, join_style=2)\n",
    "lbl_buffer = lbl_buffer.dissolve()\n",
    "taz = r\".\\Inputs\\TAZ.dbf\"\n",
    "taz_df = gpd.read_file(taz)\n",
    "\n",
    "BusLines_TAZ_Intersect = lbl_buffer.overlay(taz_df, how='intersection')\n",
    "BusLines_Dissolve = BusLines_TAZ_Intersect.dissolve(by='TAZID')\n",
    "\n",
    "BusLines_Dissolve['F_AREA'] = BusLines_Dissolve['geometry'].area\n",
    "\n",
    "BusStops_StatsArea = BusLines_Dissolve.groupby('TAZID')[['F_AREA']].max().reset_index()\n",
    "BusStops_StatsArea.rename({'F_AREA':'MAX_F_AREA'}, axis=1, inplace=True)\n",
    "\n",
    "taz_df_stops = taz_df.merge(BusStops_StatsArea.reset_index(), left_on='TAZID', right_on='TAZID', how='left')\n",
    "\n",
    "taz_df_stops.loc[taz_df_stops['MAX_F_AREA'] > 0 ,'LOCALAREA'] = taz_df_stops['MAX_F_AREA']\n",
    "taz_df_stops.loc[taz_df_stops['MAX_F_AREA'] <= 0 ,'LOCALAREA'] = taz_df_stops['LOCALAREA']\n",
    "\n",
    "\n",
    "\n",
    "\n",
    "# gpd.to_file()\n",
    "# gpd.to_file()\n",
    "# gpd.to_file()\n",
    "# gpd.to_file()\n"
   ]
  },
  {
   "cell_type": "code",
   "execution_count": 81,
   "metadata": {},
   "outputs": [
    {
     "data": {
      "text/plain": [
       "<AxesSubplot:>"
      ]
     },
     "execution_count": 81,
     "metadata": {},
     "output_type": "execute_result"
    },
    {
     "data": {
      "image/png": "[encoded data removed]",
      "text/plain": [
       "<Figure size 432x288 with 1 Axes>"
      ]
     },
     "metadata": {
      "needs_background": "light"
     },
     "output_type": "display_data"
    }
   ],
   "source": [
    "gpd.read_file(r\".\\Expected_Outputs\\wb_elseBusLines_Buffer.shp\").plot()"
   ]
  },
  {
   "cell_type": "code",
   "execution_count": 92,
   "metadata": {},
   "outputs": [
    {
     "data": {
      "text/html": [
       "<div>\n",
       "<style scoped>\n",
       "    .dataframe tbody tr th:only-of-type {\n",
       "        vertical-align: middle;\n",
       "    }\n",
       "\n",
       "    .dataframe tbody tr th {\n",
       "        vertical-align: top;\n",
       "    }\n",
       "\n",
       "    .dataframe thead th {\n",
       "        text-align: right;\n",
       "    }\n",
       "</style>\n",
       "<table border=\"1\" class=\"dataframe\">\n",
       "  <thead>\n",
       "    <tr style=\"text-align: right;\">\n",
       "      <th></th>\n",
       "      <th>TAZID</th>\n",
       "      <th>geometry</th>\n",
       "    </tr>\n",
       "  </thead>\n",
       "  <tbody>\n",
       "    <tr>\n",
       "      <th>0</th>\n",
       "      <td>12</td>\n",
       "      <td>POLYGON ((414101.020 4598059.718, 414090.923 4...</td>\n",
       "    </tr>\n",
       "    <tr>\n",
       "      <th>1</th>\n",
       "      <td>13</td>\n",
       "      <td>POLYGON ((415301.498 4598637.190, 415298.386 4...</td>\n",
       "    </tr>\n",
       "    <tr>\n",
       "      <th>2</th>\n",
       "      <td>30</td>\n",
       "      <td>POLYGON ((414103.689 4597275.205, 414102.352 4...</td>\n",
       "    </tr>\n",
       "    <tr>\n",
       "      <th>3</th>\n",
       "      <td>31</td>\n",
       "      <td>POLYGON ((414101.857 4596616.997, 414100.104 4...</td>\n",
       "    </tr>\n",
       "    <tr>\n",
       "      <th>4</th>\n",
       "      <td>32</td>\n",
       "      <td>POLYGON ((414101.857 4596616.997, 414100.437 4...</td>\n",
       "    </tr>\n",
       "    <tr>\n",
       "      <th>...</th>\n",
       "      <td>...</td>\n",
       "      <td>...</td>\n",
       "    </tr>\n",
       "    <tr>\n",
       "      <th>1904</th>\n",
       "      <td>2850</td>\n",
       "      <td>POLYGON ((432407.878 4425999.665, 432407.850 4...</td>\n",
       "    </tr>\n",
       "    <tr>\n",
       "      <th>1905</th>\n",
       "      <td>2851</td>\n",
       "      <td>POLYGON ((432956.757 4425982.392, 432954.880 4...</td>\n",
       "    </tr>\n",
       "    <tr>\n",
       "      <th>1906</th>\n",
       "      <td>2870</td>\n",
       "      <td>POLYGON ((444240.645 4450507.326, 444228.538 4...</td>\n",
       "    </tr>\n",
       "    <tr>\n",
       "      <th>1907</th>\n",
       "      <td>2871</td>\n",
       "      <td>POLYGON ((417027.995 4467412.550, 417060.666 4...</td>\n",
       "    </tr>\n",
       "    <tr>\n",
       "      <th>1908</th>\n",
       "      <td>2873</td>\n",
       "      <td>POLYGON ((426835.024 4477180.188, 426811.686 4...</td>\n",
       "    </tr>\n",
       "  </tbody>\n",
       "</table>\n",
       "<p>1909 rows × 2 columns</p>\n",
       "</div>"
      ],
      "text/plain": [
       "      TAZID                                           geometry\n",
       "0        12  POLYGON ((414101.020 4598059.718, 414090.923 4...\n",
       "1        13  POLYGON ((415301.498 4598637.190, 415298.386 4...\n",
       "2        30  POLYGON ((414103.689 4597275.205, 414102.352 4...\n",
       "3        31  POLYGON ((414101.857 4596616.997, 414100.104 4...\n",
       "4        32  POLYGON ((414101.857 4596616.997, 414100.437 4...\n",
       "...     ...                                                ...\n",
       "1904   2850  POLYGON ((432407.878 4425999.665, 432407.850 4...\n",
       "1905   2851  POLYGON ((432956.757 4425982.392, 432954.880 4...\n",
       "1906   2870  POLYGON ((444240.645 4450507.326, 444228.538 4...\n",
       "1907   2871  POLYGON ((417027.995 4467412.550, 417060.666 4...\n",
       "1908   2873  POLYGON ((426835.024 4477180.188, 426811.686 4...\n",
       "\n",
       "[1909 rows x 2 columns]"
      ]
     },
     "execution_count": 92,
     "metadata": {},
     "output_type": "execute_result"
    }
   ],
   "source": [
    "gpd.read_file(r\".\\Expected_Outputs\\wb_BusLines_Dissolve.shp\")"
   ]
  },
  {
   "cell_type": "code",
   "execution_count": 51,
   "metadata": {},
   "outputs": [
    {
     "data": {
      "text/html": [
       "<div>\n",
       "<style scoped>\n",
       "    .dataframe tbody tr th:only-of-type {\n",
       "        vertical-align: middle;\n",
       "    }\n",
       "\n",
       "    .dataframe tbody tr th {\n",
       "        vertical-align: top;\n",
       "    }\n",
       "\n",
       "    .dataframe thead th {\n",
       "        text-align: right;\n",
       "    }\n",
       "</style>\n",
       "<table border=\"1\" class=\"dataframe\">\n",
       "  <thead>\n",
       "    <tr style=\"text-align: right;\">\n",
       "      <th></th>\n",
       "      <th>TAZID</th>\n",
       "      <th>geometry</th>\n",
       "    </tr>\n",
       "  </thead>\n",
       "  <tbody>\n",
       "    <tr>\n",
       "      <th>0</th>\n",
       "      <td>279</td>\n",
       "      <td>POLYGON ((413269.011 4560728.195, 413252.822 4...</td>\n",
       "    </tr>\n",
       "    <tr>\n",
       "      <th>1</th>\n",
       "      <td>280</td>\n",
       "      <td>POLYGON ((412980.997 4560439.906, 412958.510 4...</td>\n",
       "    </tr>\n",
       "    <tr>\n",
       "      <th>2</th>\n",
       "      <td>281</td>\n",
       "      <td>POLYGON ((413440.258 4560441.148, 413436.187 4...</td>\n",
       "    </tr>\n",
       "    <tr>\n",
       "      <th>3</th>\n",
       "      <td>282</td>\n",
       "      <td>POLYGON ((413440.258 4560441.148, 413445.959 4...</td>\n",
       "    </tr>\n",
       "    <tr>\n",
       "      <th>4</th>\n",
       "      <td>283</td>\n",
       "      <td>POLYGON ((412957.414 4559637.105, 412936.461 4...</td>\n",
       "    </tr>\n",
       "  </tbody>\n",
       "</table>\n",
       "</div>"
      ],
      "text/plain": [
       "   TAZID                                           geometry\n",
       "0    279  POLYGON ((413269.011 4560728.195, 413252.822 4...\n",
       "1    280  POLYGON ((412980.997 4560439.906, 412958.510 4...\n",
       "2    281  POLYGON ((413440.258 4560441.148, 413436.187 4...\n",
       "3    282  POLYGON ((413440.258 4560441.148, 413445.959 4...\n",
       "4    283  POLYGON ((412957.414 4559637.105, 412936.461 4..."
      ]
     },
     "execution_count": 51,
     "metadata": {},
     "output_type": "execute_result"
    }
   ],
   "source": [
    "gpd.read_file(r\".\\Expected_Outputs\\wb_BusStops_Dissolve.shp\").head()"
   ]
  },
  {
   "cell_type": "code",
   "execution_count": 57,
   "metadata": {},
   "outputs": [
    {
     "data": {
      "text/html": [
       "<div>\n",
       "<style scoped>\n",
       "    .dataframe tbody tr th:only-of-type {\n",
       "        vertical-align: middle;\n",
       "    }\n",
       "\n",
       "    .dataframe tbody tr th {\n",
       "        vertical-align: top;\n",
       "    }\n",
       "\n",
       "    .dataframe thead th {\n",
       "        text-align: right;\n",
       "    }\n",
       "</style>\n",
       "<table border=\"1\" class=\"dataframe\">\n",
       "  <thead>\n",
       "    <tr style=\"text-align: right;\">\n",
       "      <th></th>\n",
       "      <th>TAZID</th>\n",
       "      <th>F_AREA</th>\n",
       "      <th>geometry</th>\n",
       "    </tr>\n",
       "  </thead>\n",
       "  <tbody>\n",
       "    <tr>\n",
       "      <th>0</th>\n",
       "      <td>279</td>\n",
       "      <td>355840.808499</td>\n",
       "      <td>POLYGON ((413269.011 4560728.195, 413252.822 4...</td>\n",
       "    </tr>\n",
       "    <tr>\n",
       "      <th>1</th>\n",
       "      <td>280</td>\n",
       "      <td>357542.355256</td>\n",
       "      <td>POLYGON ((412980.997 4560439.906, 412958.510 4...</td>\n",
       "    </tr>\n",
       "    <tr>\n",
       "      <th>2</th>\n",
       "      <td>281</td>\n",
       "      <td>71176.085782</td>\n",
       "      <td>POLYGON ((413440.258 4560441.148, 413436.187 4...</td>\n",
       "    </tr>\n",
       "    <tr>\n",
       "      <th>3</th>\n",
       "      <td>282</td>\n",
       "      <td>513689.509555</td>\n",
       "      <td>POLYGON ((413440.258 4560441.148, 413445.959 4...</td>\n",
       "    </tr>\n",
       "    <tr>\n",
       "      <th>4</th>\n",
       "      <td>283</td>\n",
       "      <td>3623.672990</td>\n",
       "      <td>POLYGON ((412957.414 4559637.105, 412936.461 4...</td>\n",
       "    </tr>\n",
       "    <tr>\n",
       "      <th>...</th>\n",
       "      <td>...</td>\n",
       "      <td>...</td>\n",
       "      <td>...</td>\n",
       "    </tr>\n",
       "    <tr>\n",
       "      <th>629</th>\n",
       "      <td>2471</td>\n",
       "      <td>408322.674550</td>\n",
       "      <td>POLYGON ((444474.709 4452361.276, 444474.480 4...</td>\n",
       "    </tr>\n",
       "    <tr>\n",
       "      <th>630</th>\n",
       "      <td>2472</td>\n",
       "      <td>373112.875021</td>\n",
       "      <td>POLYGON ((444874.942 4451105.692, 444800.402 4...</td>\n",
       "    </tr>\n",
       "    <tr>\n",
       "      <th>631</th>\n",
       "      <td>2478</td>\n",
       "      <td>399289.570451</td>\n",
       "      <td>POLYGON ((444413.890 4451749.900, 444426.072 4...</td>\n",
       "    </tr>\n",
       "    <tr>\n",
       "      <th>632</th>\n",
       "      <td>2479</td>\n",
       "      <td>417582.306507</td>\n",
       "      <td>POLYGON ((444515.422 4451111.490, 444530.722 4...</td>\n",
       "    </tr>\n",
       "    <tr>\n",
       "      <th>633</th>\n",
       "      <td>2870</td>\n",
       "      <td>171663.844294</td>\n",
       "      <td>POLYGON ((444255.144 4450483.408, 444232.619 4...</td>\n",
       "    </tr>\n",
       "  </tbody>\n",
       "</table>\n",
       "<p>634 rows × 3 columns</p>\n",
       "</div>"
      ],
      "text/plain": [
       "     TAZID         F_AREA                                           geometry\n",
       "0      279  355840.808499  POLYGON ((413269.011 4560728.195, 413252.822 4...\n",
       "1      280  357542.355256  POLYGON ((412980.997 4560439.906, 412958.510 4...\n",
       "2      281   71176.085782  POLYGON ((413440.258 4560441.148, 413436.187 4...\n",
       "3      282  513689.509555  POLYGON ((413440.258 4560441.148, 413445.959 4...\n",
       "4      283    3623.672990  POLYGON ((412957.414 4559637.105, 412936.461 4...\n",
       "..     ...            ...                                                ...\n",
       "629   2471  408322.674550  POLYGON ((444474.709 4452361.276, 444474.480 4...\n",
       "630   2472  373112.875021  POLYGON ((444874.942 4451105.692, 444800.402 4...\n",
       "631   2478  399289.570451  POLYGON ((444413.890 4451749.900, 444426.072 4...\n",
       "632   2479  417582.306507  POLYGON ((444515.422 4451111.490, 444530.722 4...\n",
       "633   2870  171663.844294  POLYGON ((444255.144 4450483.408, 444232.619 4...\n",
       "\n",
       "[634 rows x 3 columns]"
      ]
     },
     "execution_count": 57,
     "metadata": {},
     "output_type": "execute_result"
    }
   ],
   "source": [
    "gpd.read_file(r\".\\Expected_Outputs\\wb_BusStops_Area.shp\")"
   ]
  },
  {
   "cell_type": "code",
   "execution_count": 94,
   "metadata": {},
   "outputs": [],
   "source": [
    "linkview.to_file(os.path.join(outputs, 'links.shp'))"
   ]
  }
 ],
 "metadata": {
  "kernelspec": {
   "display_name": "Python 3.7.11",
   "language": "python",
   "name": "python3"
  },
  "language_info": {
   "codemirror_mode": {
    "name": "ipython",
    "version": 3
   },
   "file_extension": ".py",
   "mimetype": "text/x-python",
   "name": "python",
   "nbconvert_exporter": "python",
   "pygments_lexer": "ipython3",
   "version": "3.9.11"
  },
  "orig_nbformat": 4,
  "vscode": {
   "interpreter": {
    "hash": "3245673af07dcc28bdd829afb187282e9288a1f8195a5928b70ecba6e5973721"
   }
  }
 },
 "nbformat": 4,
 "nbformat_minor": 2
}
